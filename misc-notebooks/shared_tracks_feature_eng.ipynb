{
 "cells": [
  {
   "cell_type": "code",
   "execution_count": 1,
   "id": "845f42b4",
   "metadata": {},
   "outputs": [],
   "source": [
    "import dask.dataframe as dd\n",
    "import psycopg2\n",
    "import csv\n",
    "import os\n",
    "import sys \n",
    "import time\n",
    "import pandas as pd\n",
    "import numpy as np\n",
    "assert os.environ.get('DB_PASS') != None , 'empty password!'"
   ]
  },
  {
   "cell_type": "code",
   "execution_count": 2,
   "id": "6ecbd303",
   "metadata": {},
   "outputs": [],
   "source": [
    "conn = psycopg2.connect(\"dbname='amtrakproject' user='{}' password={}\".format(os.environ.get('USER'), os.environ.get('DB_PASS')))\n",
    "assert conn is not None, 'need to fix conn!!'"
   ]
  },
  {
   "cell_type": "code",
   "execution_count": 3,
   "id": "e8884bca",
   "metadata": {},
   "outputs": [],
   "source": [
    "def execute_and_get_results(conn, command):\n",
    "    try:\n",
    "        cur = conn.cursor()\n",
    "        cur.execute(command)\n",
    "        return cur.fetchall()\n",
    "    except (Exception, psycopg2.DatabaseError) as error:\n",
    "        print(error)\n",
    "        conn.rollback()"
   ]
  },
  {
   "cell_type": "code",
   "execution_count": 4,
   "id": "d3c8dabd",
   "metadata": {},
   "outputs": [],
   "source": [
    "def make_categories(station_code):\n",
    "    shared_with_none = set(['KIN', 'WLY', 'MYS'])\n",
    "    shared_with_1 = set(['BOS', 'BBY', 'RTE', 'PVD', 'NLC', \n",
    "                         'OSB', 'NYP', 'NWK', 'EWR', \n",
    "                         'MET', 'TRE', 'PHL', 'WIL', 'ABE',\n",
    "                         'BAL', 'BWI', 'NCR', 'WAS'])\n",
    "    shared_with_2 = set(['NHV', 'BRP', 'STM', 'NRO'])\n",
    "    if station_code in shared_with_none:\n",
    "        return 0\n",
    "    elif station_code in shared_with_2: \n",
    "        return 2\n",
    "    elif station_code in shared_with_1:\n",
    "        return 1"
   ]
  },
  {
   "cell_type": "code",
   "execution_count": 5,
   "id": "96cc6859",
   "metadata": {},
   "outputs": [],
   "source": [
    "df = pd.read_csv('./data/trains/depart_2021_processed.csv')"
   ]
  },
  {
   "cell_type": "code",
   "execution_count": 6,
   "id": "01c7b3bb",
   "metadata": {},
   "outputs": [],
   "source": [
    "station_code = df['Station']"
   ]
  },
  {
   "cell_type": "code",
   "execution_count": 7,
   "id": "d171de61",
   "metadata": {},
   "outputs": [],
   "source": [
    "shared_tracks = station_code.apply(make_categories)"
   ]
  },
  {
   "cell_type": "code",
   "execution_count": 8,
   "id": "49ae1ab5",
   "metadata": {},
   "outputs": [
    {
     "data": {
      "text/plain": [
       "0    1\n",
       "1    1\n",
       "2    1\n",
       "3    1\n",
       "4    1\n",
       "Name: Station, dtype: int64"
      ]
     },
     "execution_count": 8,
     "metadata": {},
     "output_type": "execute_result"
    }
   ],
   "source": [
    "shared_tracks.head()"
   ]
  },
  {
   "cell_type": "code",
   "execution_count": 9,
   "id": "a624bc03",
   "metadata": {},
   "outputs": [
    {
     "data": {
      "text/plain": [
       "1.0841695554339232"
      ]
     },
     "execution_count": 9,
     "metadata": {},
     "output_type": "execute_result"
    }
   ],
   "source": [
    "shared_tracks.mean()"
   ]
  },
  {
   "cell_type": "code",
   "execution_count": 10,
   "id": "61262255",
   "metadata": {},
   "outputs": [],
   "source": [
    "departures = dd.read_csv('./data/trains/depart*.csv')"
   ]
  },
  {
   "cell_type": "code",
   "execution_count": 11,
   "id": "73c39374",
   "metadata": {},
   "outputs": [],
   "source": [
    "arrivals = dd.read_csv('./data/trains/arrive*.csv')"
   ]
  },
  {
   "cell_type": "code",
   "execution_count": 12,
   "id": "f5b7b9f0",
   "metadata": {},
   "outputs": [],
   "source": [
    "dep_shared_tracks = departures['Station'].apply(make_categories, meta=('Station', 'object'))"
   ]
  },
  {
   "cell_type": "code",
   "execution_count": 13,
   "id": "d59e9040",
   "metadata": {},
   "outputs": [],
   "source": [
    "arr_shared_tracks = arrivals['Station'].apply(make_categories, meta=('Station', 'object'))"
   ]
  },
  {
   "cell_type": "code",
   "execution_count": 14,
   "id": "802c304f",
   "metadata": {},
   "outputs": [
    {
     "data": {
      "text/plain": [
       "dask.dataframe.core.Series"
      ]
     },
     "execution_count": 14,
     "metadata": {},
     "output_type": "execute_result"
    }
   ],
   "source": [
    "type(arr_shared_tracks)"
   ]
  },
  {
   "cell_type": "code",
   "execution_count": 15,
   "id": "7d62ea03",
   "metadata": {},
   "outputs": [
    {
     "data": {
      "text/html": [
       "<div>\n",
       "<style scoped>\n",
       "    .dataframe tbody tr th:only-of-type {\n",
       "        vertical-align: middle;\n",
       "    }\n",
       "\n",
       "    .dataframe tbody tr th {\n",
       "        vertical-align: top;\n",
       "    }\n",
       "\n",
       "    .dataframe thead th {\n",
       "        text-align: right;\n",
       "    }\n",
       "</style>\n",
       "<table border=\"1\" class=\"dataframe\">\n",
       "  <thead>\n",
       "    <tr style=\"text-align: right;\">\n",
       "      <th></th>\n",
       "      <th>Train Num</th>\n",
       "      <th>Station</th>\n",
       "      <th>Direction</th>\n",
       "      <th>Origin Date</th>\n",
       "      <th>Origin Year</th>\n",
       "      <th>Origin Month</th>\n",
       "      <th>Origin Week Day</th>\n",
       "      <th>Full Sch Dp Date</th>\n",
       "      <th>Sch Dp Date</th>\n",
       "      <th>Sch Dp Day</th>\n",
       "      <th>Sch Dp Time</th>\n",
       "      <th>Act Dp Time</th>\n",
       "      <th>Full Act Dp Date</th>\n",
       "      <th>Depart Diff</th>\n",
       "      <th>Service Disruption</th>\n",
       "      <th>Cancellations</th>\n",
       "    </tr>\n",
       "  </thead>\n",
       "  <tbody>\n",
       "    <tr>\n",
       "      <th>0</th>\n",
       "      <td>99</td>\n",
       "      <td>BOS</td>\n",
       "      <td>Southbound</td>\n",
       "      <td>2011-01-01</td>\n",
       "      <td>2011</td>\n",
       "      <td>1</td>\n",
       "      <td>Saturday</td>\n",
       "      <td>2011-01-01 08:40:00</td>\n",
       "      <td>2011-01-01</td>\n",
       "      <td>Saturday</td>\n",
       "      <td>08:40:00</td>\n",
       "      <td>08:40:00</td>\n",
       "      <td>2011-01-01 08:40:00</td>\n",
       "      <td>0</td>\n",
       "      <td>0</td>\n",
       "      <td>0</td>\n",
       "    </tr>\n",
       "    <tr>\n",
       "      <th>1</th>\n",
       "      <td>67</td>\n",
       "      <td>BOS</td>\n",
       "      <td>Southbound</td>\n",
       "      <td>2011-01-01</td>\n",
       "      <td>2011</td>\n",
       "      <td>1</td>\n",
       "      <td>Saturday</td>\n",
       "      <td>2011-01-01 21:30:00</td>\n",
       "      <td>2011-01-01</td>\n",
       "      <td>Saturday</td>\n",
       "      <td>21:30:00</td>\n",
       "      <td>21:30:00</td>\n",
       "      <td>2011-01-01 21:30:00</td>\n",
       "      <td>0</td>\n",
       "      <td>0</td>\n",
       "      <td>0</td>\n",
       "    </tr>\n",
       "    <tr>\n",
       "      <th>2</th>\n",
       "      <td>99</td>\n",
       "      <td>BOS</td>\n",
       "      <td>Southbound</td>\n",
       "      <td>2011-01-02</td>\n",
       "      <td>2011</td>\n",
       "      <td>1</td>\n",
       "      <td>Sunday</td>\n",
       "      <td>2011-01-02 08:40:00</td>\n",
       "      <td>2011-01-02</td>\n",
       "      <td>Sunday</td>\n",
       "      <td>08:40:00</td>\n",
       "      <td>08:40:00</td>\n",
       "      <td>2011-01-02 08:40:00</td>\n",
       "      <td>0</td>\n",
       "      <td>0</td>\n",
       "      <td>0</td>\n",
       "    </tr>\n",
       "    <tr>\n",
       "      <th>3</th>\n",
       "      <td>67</td>\n",
       "      <td>BOS</td>\n",
       "      <td>Southbound</td>\n",
       "      <td>2011-01-02</td>\n",
       "      <td>2011</td>\n",
       "      <td>1</td>\n",
       "      <td>Sunday</td>\n",
       "      <td>2011-01-02 21:30:00</td>\n",
       "      <td>2011-01-02</td>\n",
       "      <td>Sunday</td>\n",
       "      <td>21:30:00</td>\n",
       "      <td>21:30:00</td>\n",
       "      <td>2011-01-02 21:30:00</td>\n",
       "      <td>0</td>\n",
       "      <td>0</td>\n",
       "      <td>0</td>\n",
       "    </tr>\n",
       "    <tr>\n",
       "      <th>4</th>\n",
       "      <td>95</td>\n",
       "      <td>BOS</td>\n",
       "      <td>Southbound</td>\n",
       "      <td>2011-01-03</td>\n",
       "      <td>2011</td>\n",
       "      <td>1</td>\n",
       "      <td>Monday</td>\n",
       "      <td>2011-01-03 06:15:00</td>\n",
       "      <td>2011-01-03</td>\n",
       "      <td>Monday</td>\n",
       "      <td>06:15:00</td>\n",
       "      <td>06:15:00</td>\n",
       "      <td>2011-01-03 06:15:00</td>\n",
       "      <td>0</td>\n",
       "      <td>0</td>\n",
       "      <td>0</td>\n",
       "    </tr>\n",
       "  </tbody>\n",
       "</table>\n",
       "</div>"
      ],
      "text/plain": [
       "   Train Num Station   Direction Origin Date  Origin Year  Origin Month  \\\n",
       "0         99     BOS  Southbound  2011-01-01         2011             1   \n",
       "1         67     BOS  Southbound  2011-01-01         2011             1   \n",
       "2         99     BOS  Southbound  2011-01-02         2011             1   \n",
       "3         67     BOS  Southbound  2011-01-02         2011             1   \n",
       "4         95     BOS  Southbound  2011-01-03         2011             1   \n",
       "\n",
       "  Origin Week Day     Full Sch Dp Date Sch Dp Date Sch Dp Day Sch Dp Time  \\\n",
       "0        Saturday  2011-01-01 08:40:00  2011-01-01   Saturday    08:40:00   \n",
       "1        Saturday  2011-01-01 21:30:00  2011-01-01   Saturday    21:30:00   \n",
       "2          Sunday  2011-01-02 08:40:00  2011-01-02     Sunday    08:40:00   \n",
       "3          Sunday  2011-01-02 21:30:00  2011-01-02     Sunday    21:30:00   \n",
       "4          Monday  2011-01-03 06:15:00  2011-01-03     Monday    06:15:00   \n",
       "\n",
       "  Act Dp Time     Full Act Dp Date  Depart Diff  Service Disruption  \\\n",
       "0    08:40:00  2011-01-01 08:40:00            0                   0   \n",
       "1    21:30:00  2011-01-01 21:30:00            0                   0   \n",
       "2    08:40:00  2011-01-02 08:40:00            0                   0   \n",
       "3    21:30:00  2011-01-02 21:30:00            0                   0   \n",
       "4    06:15:00  2011-01-03 06:15:00            0                   0   \n",
       "\n",
       "   Cancellations  \n",
       "0              0  \n",
       "1              0  \n",
       "2              0  \n",
       "3              0  \n",
       "4              0  "
      ]
     },
     "execution_count": 15,
     "metadata": {},
     "output_type": "execute_result"
    }
   ],
   "source": [
    "departures.head()"
   ]
  },
  {
   "cell_type": "code",
   "execution_count": 16,
   "id": "74f72e4b",
   "metadata": {},
   "outputs": [],
   "source": [
    "departures['Sharing_Tracks_Other_RR'] = dep_shared_tracks\n",
    "arrivals['Sharing_Tracks_Other_RR'] = arr_shared_tracks"
   ]
  },
  {
   "cell_type": "code",
   "execution_count": 17,
   "id": "c6ebde3e",
   "metadata": {},
   "outputs": [
    {
     "data": {
      "text/plain": [
       "(Delayed('int-b4bb0921-2c12-4dea-92b2-e3fd447dd3a4'), 17)"
      ]
     },
     "execution_count": 17,
     "metadata": {},
     "output_type": "execute_result"
    }
   ],
   "source": [
    "departures.shape"
   ]
  },
  {
   "cell_type": "code",
   "execution_count": 18,
   "id": "d18f9e9d",
   "metadata": {},
   "outputs": [
    {
     "data": {
      "text/plain": [
       "['/Users/elizabethchen/Documents/amtrak-project/dask-df-departures.csv/00.part',\n",
       " '/Users/elizabethchen/Documents/amtrak-project/dask-df-departures.csv/01.part',\n",
       " '/Users/elizabethchen/Documents/amtrak-project/dask-df-departures.csv/02.part',\n",
       " '/Users/elizabethchen/Documents/amtrak-project/dask-df-departures.csv/03.part',\n",
       " '/Users/elizabethchen/Documents/amtrak-project/dask-df-departures.csv/04.part',\n",
       " '/Users/elizabethchen/Documents/amtrak-project/dask-df-departures.csv/05.part',\n",
       " '/Users/elizabethchen/Documents/amtrak-project/dask-df-departures.csv/06.part',\n",
       " '/Users/elizabethchen/Documents/amtrak-project/dask-df-departures.csv/07.part',\n",
       " '/Users/elizabethchen/Documents/amtrak-project/dask-df-departures.csv/08.part',\n",
       " '/Users/elizabethchen/Documents/amtrak-project/dask-df-departures.csv/09.part',\n",
       " '/Users/elizabethchen/Documents/amtrak-project/dask-df-departures.csv/10.part']"
      ]
     },
     "execution_count": 18,
     "metadata": {},
     "output_type": "execute_result"
    }
   ],
   "source": [
    "departures.to_csv('dask-df-departures.csv', index=False)"
   ]
  },
  {
   "cell_type": "code",
   "execution_count": 19,
   "id": "a32c9da7",
   "metadata": {},
   "outputs": [
    {
     "data": {
      "text/plain": [
       "['/Users/elizabethchen/Documents/amtrak-project/dask-df-arrivals.csv/00.part',\n",
       " '/Users/elizabethchen/Documents/amtrak-project/dask-df-arrivals.csv/01.part',\n",
       " '/Users/elizabethchen/Documents/amtrak-project/dask-df-arrivals.csv/02.part',\n",
       " '/Users/elizabethchen/Documents/amtrak-project/dask-df-arrivals.csv/03.part',\n",
       " '/Users/elizabethchen/Documents/amtrak-project/dask-df-arrivals.csv/04.part',\n",
       " '/Users/elizabethchen/Documents/amtrak-project/dask-df-arrivals.csv/05.part',\n",
       " '/Users/elizabethchen/Documents/amtrak-project/dask-df-arrivals.csv/06.part',\n",
       " '/Users/elizabethchen/Documents/amtrak-project/dask-df-arrivals.csv/07.part',\n",
       " '/Users/elizabethchen/Documents/amtrak-project/dask-df-arrivals.csv/08.part',\n",
       " '/Users/elizabethchen/Documents/amtrak-project/dask-df-arrivals.csv/09.part',\n",
       " '/Users/elizabethchen/Documents/amtrak-project/dask-df-arrivals.csv/10.part']"
      ]
     },
     "execution_count": 19,
     "metadata": {},
     "output_type": "execute_result"
    }
   ],
   "source": [
    "arrivals.to_csv('dask-df-arrivals.csv', index=False)"
   ]
  },
  {
   "cell_type": "code",
   "execution_count": 22,
   "id": "ea153cd5",
   "metadata": {},
   "outputs": [],
   "source": [
    "query = \"\"\"\n",
    "          SELECT \n",
    "              CASE \n",
    "                  WHEN station_code IN ('KIN', 'WLY', 'MYS') THEN 0\n",
    "                  WHEN station_code in ('NHV', 'BRP', 'STM', 'NRO') THEN 2\n",
    "                  ELSE 1\n",
    "              END Num_Other_RR_On_Tracks\n",
    "          FROM all_trains;\n",
    "\"\"\""
   ]
  },
  {
   "cell_type": "code",
   "execution_count": 23,
   "id": "7b311f03",
   "metadata": {},
   "outputs": [],
   "source": [
    "num_other_RR = execute_and_get_results(conn, query)"
   ]
  },
  {
   "cell_type": "code",
   "execution_count": 26,
   "id": "0491b286",
   "metadata": {},
   "outputs": [
    {
     "data": {
      "text/plain": [
       "1238035"
      ]
     },
     "execution_count": 26,
     "metadata": {},
     "output_type": "execute_result"
    }
   ],
   "source": [
    "len(num_other_RR)"
   ]
  },
  {
   "cell_type": "code",
   "execution_count": 31,
   "id": "5d92f88c",
   "metadata": {},
   "outputs": [],
   "source": [
    "import numpy"
   ]
  },
  {
   "cell_type": "code",
   "execution_count": 32,
   "id": "03f4b753",
   "metadata": {
    "scrolled": true
   },
   "outputs": [
    {
     "data": {
      "text/plain": [
       "1.062661394871712"
      ]
     },
     "execution_count": 32,
     "metadata": {},
     "output_type": "execute_result"
    }
   ],
   "source": [
    "np.mean(num_other_RR)"
   ]
  },
  {
   "cell_type": "code",
   "execution_count": null,
   "id": "1e44551d",
   "metadata": {},
   "outputs": [],
   "source": []
  }
 ],
 "metadata": {
  "kernelspec": {
   "display_name": "Python 3",
   "language": "python",
   "name": "python3"
  },
  "language_info": {
   "codemirror_mode": {
    "name": "ipython",
    "version": 3
   },
   "file_extension": ".py",
   "mimetype": "text/x-python",
   "name": "python",
   "nbconvert_exporter": "python",
   "pygments_lexer": "ipython3",
   "version": "3.8.10"
  }
 },
 "nbformat": 4,
 "nbformat_minor": 5
}
