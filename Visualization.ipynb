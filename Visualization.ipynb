{
 "cells": [
  {
   "cell_type": "code",
   "execution_count": 1,
   "metadata": {
    "scrolled": false
   },
   "outputs": [],
   "source": [
    "import plotly.express as px\n",
    "import plotly.graph_objects as go\n",
    "import geopandas as gpd\n",
    "import os\n",
    "import json\n",
    "import shapely\n",
    "import numpy as np\n",
    "import pandas as pd\n",
    "import sys\n",
    "\n",
    "import dash\n",
    "import dash_core_components as dcc\n",
    "import dash_html_components as html"
   ]
  },
  {
   "cell_type": "code",
   "execution_count": 2,
   "metadata": {},
   "outputs": [],
   "source": [
    "mapbox_token = os.environ.get('MAPBOX_TOKEN')\n",
    "assert mapbox_token is not None, 'empty token'\n",
    "\n",
    "amtrak_stations = ['BOS', 'BBY', 'RTE', 'PVD', 'KIN', 'NLC', 'NHV', 'STM',\n",
    "                   'NYP', 'NWK', 'TRE', 'PHL', 'WIL', 'BAL', 'BWI', 'NCR', 'WAS']\n"
   ]
  },
  {
   "cell_type": "code",
   "execution_count": 4,
   "metadata": {
    "scrolled": true
   },
   "outputs": [
    {
     "data": {
      "text/html": [
       "<div>\n",
       "<style scoped>\n",
       "    .dataframe tbody tr th:only-of-type {\n",
       "        vertical-align: middle;\n",
       "    }\n",
       "\n",
       "    .dataframe tbody tr th {\n",
       "        vertical-align: top;\n",
       "    }\n",
       "\n",
       "    .dataframe thead th {\n",
       "        text-align: right;\n",
       "    }\n",
       "</style>\n",
       "<table border=\"1\" class=\"dataframe\">\n",
       "  <thead>\n",
       "    <tr style=\"text-align: right;\">\n",
       "      <th></th>\n",
       "      <th>STNCODE</th>\n",
       "      <th>OBJECTID</th>\n",
       "      <th>STNNAME</th>\n",
       "      <th>CITY2</th>\n",
       "      <th>STATE</th>\n",
       "      <th>STFIPS</th>\n",
       "      <th>urban</th>\n",
       "      <th>geometry</th>\n",
       "    </tr>\n",
       "  </thead>\n",
       "  <tbody>\n",
       "    <tr>\n",
       "      <th>0</th>\n",
       "      <td>BOS</td>\n",
       "      <td>5</td>\n",
       "      <td>Boston (South Station), Massachusetts</td>\n",
       "      <td>Boston</td>\n",
       "      <td>MA</td>\n",
       "      <td>25</td>\n",
       "      <td>YES</td>\n",
       "      <td>POINT (-71.05530 42.35231)</td>\n",
       "    </tr>\n",
       "    <tr>\n",
       "      <th>1</th>\n",
       "      <td>BBY</td>\n",
       "      <td>17</td>\n",
       "      <td>Boston (Back Bay), Massachusetts</td>\n",
       "      <td>Boston</td>\n",
       "      <td>MA</td>\n",
       "      <td>25</td>\n",
       "      <td>YES</td>\n",
       "      <td>POINT (-71.07583 42.34732)</td>\n",
       "    </tr>\n",
       "    <tr>\n",
       "      <th>2</th>\n",
       "      <td>RTE</td>\n",
       "      <td>24</td>\n",
       "      <td>Westwood, Route 128 Station, Massachusetts</td>\n",
       "      <td>Route 128</td>\n",
       "      <td>MA</td>\n",
       "      <td>25</td>\n",
       "      <td>YES</td>\n",
       "      <td>POINT (-71.14789 42.21024)</td>\n",
       "    </tr>\n",
       "    <tr>\n",
       "      <th>3</th>\n",
       "      <td>PVD</td>\n",
       "      <td>10</td>\n",
       "      <td>Providence, Rhode Island</td>\n",
       "      <td>Providence</td>\n",
       "      <td>RI</td>\n",
       "      <td>44</td>\n",
       "      <td>YES</td>\n",
       "      <td>POINT (-71.41348 41.82949)</td>\n",
       "    </tr>\n",
       "    <tr>\n",
       "      <th>4</th>\n",
       "      <td>KIN</td>\n",
       "      <td>60</td>\n",
       "      <td>West Kingston, Rhode Island</td>\n",
       "      <td>Kingston</td>\n",
       "      <td>RI</td>\n",
       "      <td>44</td>\n",
       "      <td></td>\n",
       "      <td>POINT (-71.56060 41.48396)</td>\n",
       "    </tr>\n",
       "    <tr>\n",
       "      <th>5</th>\n",
       "      <td>NLC</td>\n",
       "      <td>63</td>\n",
       "      <td>New London, Connecticut</td>\n",
       "      <td>New London</td>\n",
       "      <td>CT</td>\n",
       "      <td>09</td>\n",
       "      <td>YES</td>\n",
       "      <td>POINT (-72.09322 41.35427)</td>\n",
       "    </tr>\n",
       "    <tr>\n",
       "      <th>6</th>\n",
       "      <td>NHV</td>\n",
       "      <td>16</td>\n",
       "      <td>New Haven, Connecticut</td>\n",
       "      <td>New Haven</td>\n",
       "      <td>CT</td>\n",
       "      <td>09</td>\n",
       "      <td>YES</td>\n",
       "      <td>POINT (-72.92667 41.29771)</td>\n",
       "    </tr>\n",
       "    <tr>\n",
       "      <th>7</th>\n",
       "      <td>STM</td>\n",
       "      <td>27</td>\n",
       "      <td>Stamford, Connecticut</td>\n",
       "      <td>Stamford</td>\n",
       "      <td>CT</td>\n",
       "      <td>09</td>\n",
       "      <td>YES</td>\n",
       "      <td>POINT (-73.54216 41.04713)</td>\n",
       "    </tr>\n",
       "    <tr>\n",
       "      <th>8</th>\n",
       "      <td>NYP</td>\n",
       "      <td>1</td>\n",
       "      <td>New York (Penn Station), New York</td>\n",
       "      <td>New York</td>\n",
       "      <td>NY</td>\n",
       "      <td>36</td>\n",
       "      <td>YES</td>\n",
       "      <td>POINT (-73.99446 40.75033)</td>\n",
       "    </tr>\n",
       "    <tr>\n",
       "      <th>9</th>\n",
       "      <td>NWK</td>\n",
       "      <td>14</td>\n",
       "      <td>Newark (Penn Station), New Jersey</td>\n",
       "      <td>Newark</td>\n",
       "      <td>NJ</td>\n",
       "      <td>34</td>\n",
       "      <td>YES</td>\n",
       "      <td>POINT (-74.16475 40.73471)</td>\n",
       "    </tr>\n",
       "    <tr>\n",
       "      <th>10</th>\n",
       "      <td>TRE</td>\n",
       "      <td>25</td>\n",
       "      <td>Trenton, New Jersey</td>\n",
       "      <td>Trenton</td>\n",
       "      <td>NJ</td>\n",
       "      <td>34</td>\n",
       "      <td>YES</td>\n",
       "      <td>POINT (-74.75444 40.21901)</td>\n",
       "    </tr>\n",
       "    <tr>\n",
       "      <th>11</th>\n",
       "      <td>PHL</td>\n",
       "      <td>3</td>\n",
       "      <td>Philadelphia (30th St), Pennsylvania</td>\n",
       "      <td>Philadelphia</td>\n",
       "      <td>PA</td>\n",
       "      <td>42</td>\n",
       "      <td>YES</td>\n",
       "      <td>POINT (-75.18104 39.95562)</td>\n",
       "    </tr>\n",
       "    <tr>\n",
       "      <th>12</th>\n",
       "      <td>WIL</td>\n",
       "      <td>12</td>\n",
       "      <td>Wilmington, Delaware</td>\n",
       "      <td>Wilmington</td>\n",
       "      <td>DE</td>\n",
       "      <td>10</td>\n",
       "      <td>YES</td>\n",
       "      <td>POINT (-75.55110 39.73726)</td>\n",
       "    </tr>\n",
       "    <tr>\n",
       "      <th>13</th>\n",
       "      <td>BAL</td>\n",
       "      <td>8</td>\n",
       "      <td>Baltimore (Penn Station), Maryland</td>\n",
       "      <td>Baltimore</td>\n",
       "      <td>MD</td>\n",
       "      <td>24</td>\n",
       "      <td>YES</td>\n",
       "      <td>POINT (-76.61569 39.30730)</td>\n",
       "    </tr>\n",
       "    <tr>\n",
       "      <th>14</th>\n",
       "      <td>BWI</td>\n",
       "      <td>13</td>\n",
       "      <td>BWI Rail Station at Thurgood Marshall Airport,...</td>\n",
       "      <td>BWI Marshall Airport</td>\n",
       "      <td>MD</td>\n",
       "      <td>24</td>\n",
       "      <td>YES</td>\n",
       "      <td>POINT (-76.69430 39.19236)</td>\n",
       "    </tr>\n",
       "    <tr>\n",
       "      <th>15</th>\n",
       "      <td>NCR</td>\n",
       "      <td>56</td>\n",
       "      <td>New Carrollton, Maryland</td>\n",
       "      <td>New Carrollton</td>\n",
       "      <td>MD</td>\n",
       "      <td>24</td>\n",
       "      <td>YES</td>\n",
       "      <td>POINT (-76.87149 38.94810)</td>\n",
       "    </tr>\n",
       "    <tr>\n",
       "      <th>16</th>\n",
       "      <td>WAS</td>\n",
       "      <td>2</td>\n",
       "      <td>Washington, District of Columbia</td>\n",
       "      <td>Washington</td>\n",
       "      <td>DC</td>\n",
       "      <td>11</td>\n",
       "      <td>YES</td>\n",
       "      <td>POINT (-77.00642 38.89699)</td>\n",
       "    </tr>\n",
       "  </tbody>\n",
       "</table>\n",
       "</div>"
      ],
      "text/plain": [
       "   STNCODE  OBJECTID                                            STNNAME  \\\n",
       "0      BOS         5              Boston (South Station), Massachusetts   \n",
       "1      BBY        17                   Boston (Back Bay), Massachusetts   \n",
       "2      RTE        24         Westwood, Route 128 Station, Massachusetts   \n",
       "3      PVD        10                           Providence, Rhode Island   \n",
       "4      KIN        60                        West Kingston, Rhode Island   \n",
       "5      NLC        63                            New London, Connecticut   \n",
       "6      NHV        16                             New Haven, Connecticut   \n",
       "7      STM        27                              Stamford, Connecticut   \n",
       "8      NYP         1                  New York (Penn Station), New York   \n",
       "9      NWK        14                  Newark (Penn Station), New Jersey   \n",
       "10     TRE        25                                Trenton, New Jersey   \n",
       "11     PHL         3               Philadelphia (30th St), Pennsylvania   \n",
       "12     WIL        12                               Wilmington, Delaware   \n",
       "13     BAL         8                 Baltimore (Penn Station), Maryland   \n",
       "14     BWI        13  BWI Rail Station at Thurgood Marshall Airport,...   \n",
       "15     NCR        56                           New Carrollton, Maryland   \n",
       "16     WAS         2                   Washington, District of Columbia   \n",
       "\n",
       "                   CITY2 STATE STFIPS urban                    geometry  \n",
       "0                 Boston    MA     25   YES  POINT (-71.05530 42.35231)  \n",
       "1                 Boston    MA     25   YES  POINT (-71.07583 42.34732)  \n",
       "2              Route 128    MA     25   YES  POINT (-71.14789 42.21024)  \n",
       "3             Providence    RI     44   YES  POINT (-71.41348 41.82949)  \n",
       "4               Kingston    RI     44        POINT (-71.56060 41.48396)  \n",
       "5             New London    CT     09   YES  POINT (-72.09322 41.35427)  \n",
       "6              New Haven    CT     09   YES  POINT (-72.92667 41.29771)  \n",
       "7               Stamford    CT     09   YES  POINT (-73.54216 41.04713)  \n",
       "8               New York    NY     36   YES  POINT (-73.99446 40.75033)  \n",
       "9                 Newark    NJ     34   YES  POINT (-74.16475 40.73471)  \n",
       "10               Trenton    NJ     34   YES  POINT (-74.75444 40.21901)  \n",
       "11          Philadelphia    PA     42   YES  POINT (-75.18104 39.95562)  \n",
       "12            Wilmington    DE     10   YES  POINT (-75.55110 39.73726)  \n",
       "13             Baltimore    MD     24   YES  POINT (-76.61569 39.30730)  \n",
       "14  BWI Marshall Airport    MD     24   YES  POINT (-76.69430 39.19236)  \n",
       "15        New Carrollton    MD     24   YES  POINT (-76.87149 38.94810)  \n",
       "16            Washington    DC     11   YES  POINT (-77.00642 38.89699)  "
      ]
     },
     "execution_count": 4,
     "metadata": {},
     "output_type": "execute_result"
    }
   ],
   "source": [
    "geo_stations = gpd.read_file('./data/geojson/Amtrak_Project_Stations_Reordered.geojson')\n",
    "geo_stations = geo_stations.loc[amtrak_stations]\n",
    "geo_stations"
   ]
  },
  {
   "cell_type": "code",
   "execution_count": null,
   "metadata": {},
   "outputs": [],
   "source": [
    "location_names = list(geo_stations['STNNAME'])\n",
    "\n",
    "options = [dict(label = location_names[i], value = amtrak_stations[i]) for i in range(len(amtrak_stations))]"
   ]
  },
  {
   "cell_type": "code",
   "execution_count": null,
   "metadata": {
    "scrolled": true
   },
   "outputs": [],
   "source": [
    "options"
   ]
  },
  {
   "cell_type": "code",
   "execution_count": null,
   "metadata": {
    "scrolled": false
   },
   "outputs": [],
   "source": [
    "mile_markers = {'Northbound Mile': {station: None for station in amtrak_stations} , 'Southbound Mile': {station: None for station in amtrak_stations} } \n",
    "\n",
    "SB = [0,1,11,43,70,105,156,195,231,241,289,322,347,416,427,448,457]\n",
    "\n",
    "NB = [457, 456, 446, 414,387,352,301,262,226,216,168,135,110,41,30,9,0]\n",
    "\n",
    "for station, NB_mile, SB_mile in zip(amtrak_stations, NB, SB):\n",
    "    mile_markers['Northbound Mile'][station] = NB_mile\n",
    "    mile_markers['Southbound Mile'][station] = SB_mile\n",
    "\n",
    "mile_cols = pd.DataFrame.from_dict(mile_markers, orient='columns')\n",
    "#mile_cols.to_csv('./data/geojson/mile_markers.csv', index=False)"
   ]
  },
  {
   "cell_type": "code",
   "execution_count": null,
   "metadata": {
    "scrolled": false
   },
   "outputs": [],
   "source": [
    "px.set_mapbox_access_token(mapbox_token)\n",
    "station_mapbox = px.scatter_mapbox(geo_stations,\n",
    "                        lat=geo_stations.geometry.y,\n",
    "                        lon=geo_stations.geometry.x,\n",
    "                        mapbox_style = 'outdoors',\n",
    "                        hover_name=\"STNNAME\",\n",
    "                        center=dict(\n",
    "                            lat=40.58,\n",
    "                            lon=-74.00\n",
    "                        ),\n",
    "                        zoom=5.5,\n",
    "                        )\n",
    "config = dict({'scrollZoom': False})\n",
    "station_mapbox.show(config=config)"
   ]
  },
  {
   "cell_type": "code",
   "execution_count": null,
   "metadata": {},
   "outputs": [],
   "source": [
    "geo_route = pd.read_csv(\"./data/geojson/NE_regional_lonlat.csv\")"
   ]
  },
  {
   "cell_type": "code",
   "execution_count": null,
   "metadata": {},
   "outputs": [],
   "source": [
    "route = px.line_mapbox(lat=geo_route['Latitude'], lon=geo_route['Longitude'],\n",
    "                     mapbox_style='mapbox://styles/elizabethchen/ckmyomzg920pz17o6n7hg2lnd', \n",
    "                     center=dict(\n",
    "                            lat=40.58,\n",
    "                            lon=-74.00\n",
    "                     ),\n",
    "                     zoom=5.5\n",
    "        )\n",
    "\n",
    "route.show(config=config)"
   ]
  },
  {
   "cell_type": "code",
   "execution_count": null,
   "metadata": {},
   "outputs": [],
   "source": [
    "import psycopg2\n",
    "from psycopg2 import sql"
   ]
  },
  {
   "cell_type": "code",
   "execution_count": null,
   "metadata": {},
   "outputs": [],
   "source": [
    "DSN = \"dbname='amtrakproject' user='appuser' password={}\".format(os.environ.get('DB_PASS'))\n",
    "conn = psycopg2.connect(DSN)\n",
    "cur = conn.cursor()"
   ]
  },
  {
   "cell_type": "code",
   "execution_count": null,
   "metadata": {},
   "outputs": [],
   "source": [
    "command = \"\"\"\n",
    "    SELECT  d.train_num, ti.depart_origin_time, AVG(d.depart_diff), COUNT(d.depart_diff)\n",
    "    FROM train_info ti\n",
    "    INNER JOIN(\n",
    "        SELECT d.train_num, d.depart_diff \n",
    "        FROM departures d\n",
    "        WHERE d.origin_year > 2016 AND d.origin_year < 2020\n",
    "    ) AS d\n",
    "    ON ti.train_num = d.train_num\n",
    "    WHERE reg_operates_on_mon = 't' AND reg_operates_on_thurs = 't'\n",
    "    GROUP BY d.train_num, ti.depart_origin_time\n",
    "    ORDER BY AVG(d.depart_diff) DESC;\n",
    "    \"\"\""
   ]
  },
  {
   "cell_type": "code",
   "execution_count": null,
   "metadata": {},
   "outputs": [],
   "source": [
    "DSN = \"dbname='amtrakproject' user='appuser' password={}\".format(os.environ.get('DB_PASS'))\n",
    "conn = psycopg2.connect(DSN)\n",
    "cur = conn.cursor()\n",
    "\n",
    "try:\n",
    "    cur.execute(command)\n",
    "    data = cur.fetchall()\n",
    "    conn.close()\n",
    "except (Exception, psycopg2.DatabaseError) as error:\n",
    "    err_type, err_obj, traceback = sys.exc_info()\n",
    "    line_num = traceback.tb_lineno\n",
    "    conn.rollback()\n",
    "    print (\"\\npsycopg2 ERROR:\", error, \"on line number:\", line_num)\n",
    "    print (\"psycopg2 traceback:\", traceback, \"-- type:\", err_type)"
   ]
  },
  {
   "cell_type": "code",
   "execution_count": null,
   "metadata": {},
   "outputs": [],
   "source": [
    "df = pd.DataFrame(data, columns = ['train_num', 'depart_origin_time', 'avg_depart_diff', 'num_instances'])"
   ]
  },
  {
   "cell_type": "code",
   "execution_count": null,
   "metadata": {},
   "outputs": [],
   "source": [
    "df"
   ]
  },
  {
   "cell_type": "code",
   "execution_count": null,
   "metadata": {},
   "outputs": [],
   "source": [
    "df['train_num'] = df['train_num'].astype(str)"
   ]
  },
  {
   "cell_type": "code",
   "execution_count": null,
   "metadata": {},
   "outputs": [],
   "source": [
    "bar_plt = px.bar(df, x = 'train_num', y = 'avg_depart_diff')\n",
    "bar_plt.show()"
   ]
  },
  {
   "cell_type": "markdown",
   "metadata": {},
   "source": [
    "## Testing COVID Ridership Theory"
   ]
  },
  {
   "cell_type": "code",
   "execution_count": null,
   "metadata": {},
   "outputs": [],
   "source": [
    "command = \"\"\"\n",
    "    SELECT  d.train_num, d.station_code, d.origin_year, ti.depart_origin_time, AVG(d.depart_diff), COUNT(d.depart_diff)\n",
    "    FROM train_info ti\n",
    "    INNER JOIN(\n",
    "        SELECT d.train_num, d.station_code, d.origin_year, d.depart_diff \n",
    "        FROM departures d\n",
    "    ) AS d\n",
    "    ON ti.train_num = d.train_num\n",
    "    WHERE reg_operates_on_mon = 't' AND reg_operates_on_thurs = 't'\n",
    "    GROUP BY d.train_num, ti.depart_origin_time, d.origin_year, d.station_code\n",
    "    ORDER BY AVG(d.depart_diff) DESC;\n",
    "    \"\"\""
   ]
  },
  {
   "cell_type": "code",
   "execution_count": null,
   "metadata": {},
   "outputs": [],
   "source": [
    "DSN = \"dbname='amtrakproject' user='appuser' password={}\".format(os.environ.get('DB_PASS'))\n",
    "conn = psycopg2.connect(DSN)\n",
    "cur = conn.cursor()\n",
    "\n",
    "try:\n",
    "    cur.execute(command)\n",
    "    data = cur.fetchall()\n",
    "    conn.close()\n",
    "except (Exception, psycopg2.DatabaseError) as error:\n",
    "    err_type, err_obj, traceback = sys.exc_info()\n",
    "    line_num = traceback.tb_lineno\n",
    "    conn.rollback()\n",
    "    print (\"\\npsycopg2 ERROR:\", error, \"on line number:\", line_num)\n",
    "    print (\"psycopg2 traceback:\", traceback, \"-- type:\", err_type)"
   ]
  },
  {
   "cell_type": "code",
   "execution_count": null,
   "metadata": {},
   "outputs": [],
   "source": [
    "data_yearly = pd.DataFrame(data, columns = ['train_num', 'station', 'year', 'depart_origin_time', 'avg_depart_diff', 'num_instances'])"
   ]
  },
  {
   "cell_type": "code",
   "execution_count": null,
   "metadata": {},
   "outputs": [],
   "source": [
    "data_yearly.head()"
   ]
  },
  {
   "cell_type": "code",
   "execution_count": null,
   "metadata": {},
   "outputs": [],
   "source": [
    "data_yearly.shape"
   ]
  },
  {
   "cell_type": "code",
   "execution_count": null,
   "metadata": {},
   "outputs": [],
   "source": [
    "data_yearly['train_num'] = data_yearly['train_num'].astype(str)"
   ]
  },
  {
   "cell_type": "code",
   "execution_count": null,
   "metadata": {},
   "outputs": [],
   "source": [
    "data_yearly['year'] = data_yearly['year'].astype(str)"
   ]
  },
  {
   "cell_type": "code",
   "execution_count": null,
   "metadata": {},
   "outputs": [],
   "source": [
    "pvd = data_yearly.loc[data_yearly['station'] == 'PVD']"
   ]
  },
  {
   "cell_type": "code",
   "execution_count": null,
   "metadata": {},
   "outputs": [],
   "source": [
    "pvd.shape"
   ]
  },
  {
   "cell_type": "code",
   "execution_count": null,
   "metadata": {},
   "outputs": [],
   "source": [
    "pvd.head()"
   ]
  },
  {
   "cell_type": "code",
   "execution_count": null,
   "metadata": {},
   "outputs": [],
   "source": [
    "pvd_yearly_bar_plt = px.bar(pvd, x = 'year', y = 'avg_depart_diff', color = 'train_num')\n",
    "pvd_yearly_bar_plt.update_layout(barmode='stack', xaxis={'categoryorder':'category ascending'})\n",
    "pvd_yearly_bar_plt.show()"
   ]
  },
  {
   "cell_type": "code",
   "execution_count": null,
   "metadata": {},
   "outputs": [],
   "source": [
    "command = \"\"\"\n",
    "    SELECT DISTINCT train_num\n",
    "    FROM train_info\n",
    "    ORDER BY train_num ASC;\n",
    "    \"\"\"\n",
    "\n",
    "DSN = \"dbname='amtrakproject' user='appuser' password={}\".format(os.environ.get('DB_PASS'))\n",
    "conn = psycopg2.connect(DSN)\n",
    "cur = conn.cursor()\n",
    "\n",
    "try:\n",
    "    cur.execute(command)\n",
    "    train_nums_list = cur.fetchall()\n",
    "    conn.close()\n",
    "except (Exception, psycopg2.DatabaseError) as error:\n",
    "    err_type, err_obj, traceback = sys.exc_info()\n",
    "    line_num = traceback.tb_lineno\n",
    "    conn.rollback()\n",
    "    print (\"\\npsycopg2 ERROR:\", error, \"on line number:\", line_num)\n",
    "    print (\"psycopg2 traceback:\", traceback, \"-- type:\", err_type)"
   ]
  },
  {
   "cell_type": "code",
   "execution_count": null,
   "metadata": {},
   "outputs": [],
   "source": [
    "old_style = 'mapbox://styles/elizabethchen/ckhwyiwxw09o11ap9y8rpvldf"
   ]
  },
  {
   "cell_type": "code",
   "execution_count": null,
   "metadata": {},
   "outputs": [],
   "source": [
    "train_nums = []\n",
    "for i in range(len(train_nums_list)):\n",
    "    tup = train_nums_list[i]\n",
    "    train_nums.append(tup[0])\n",
    "    \n",
    "print(train_nums)"
   ]
  },
  {
   "cell_type": "code",
   "execution_count": null,
   "metadata": {},
   "outputs": [],
   "source": []
  },
  {
   "cell_type": "code",
   "execution_count": null,
   "metadata": {},
   "outputs": [],
   "source": []
  }
 ],
 "metadata": {
  "kernelspec": {
   "display_name": "Python 3",
   "language": "python",
   "name": "python3"
  },
  "language_info": {
   "codemirror_mode": {
    "name": "ipython",
    "version": 3
   },
   "file_extension": ".py",
   "mimetype": "text/x-python",
   "name": "python",
   "nbconvert_exporter": "python",
   "pygments_lexer": "ipython3",
   "version": "3.9.2"
  }
 },
 "nbformat": 4,
 "nbformat_minor": 4
}
