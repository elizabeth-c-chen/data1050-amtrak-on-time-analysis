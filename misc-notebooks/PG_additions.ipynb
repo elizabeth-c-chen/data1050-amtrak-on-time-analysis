{
 "cells": [
  {
   "cell_type": "code",
   "execution_count": 1,
   "id": "d79f9edf",
   "metadata": {},
   "outputs": [],
   "source": [
    "import psycopg2\n",
    "import csv\n",
    "import os\n",
    "import sys \n",
    "import time\n",
    "import pandas as pd\n",
    "assert os.environ.get('DB_PASS') != None , 'empty password!'"
   ]
  },
  {
   "cell_type": "code",
   "execution_count": 2,
   "id": "7c2ac679",
   "metadata": {},
   "outputs": [],
   "source": [
    "conn = psycopg2.connect(\"dbname='amtrakproject' user='{}' password={}\".format(os.environ.get('USER'), os.environ.get('DB_PASS')))\n",
    "assert conn is not None, 'need to fix conn!!'"
   ]
  },
  {
   "cell_type": "markdown",
   "id": "5d0420ec",
   "metadata": {},
   "source": [
    "### Table_names for reference:\n",
    "* `station_info`\n",
    "* `stops`\n",
    "* `weather_hourly`\n",
    "* `regional_route`\n",
    "* to create: `trips`"
   ]
  },
  {
   "cell_type": "code",
   "execution_count": 3,
   "id": "31d46341",
   "metadata": {},
   "outputs": [],
   "source": [
    "def execute_command(conn, command):\n",
    "    try:\n",
    "        cur = conn.cursor()\n",
    "        cur.execute(command)\n",
    "        conn.commit()\n",
    "    except (Exception, psycopg2.DatabaseError) as error:\n",
    "        print(error)\n",
    "        conn.rollback()"
   ]
  },
  {
   "cell_type": "markdown",
   "id": "f0f957cf",
   "metadata": {},
   "source": [
    "### Create track sharing column\n",
    "* Count of number of other railroads sharing the tracks between stations"
   ]
  },
  {
   "cell_type": "code",
   "execution_count": 7,
   "id": "d80b2fd3",
   "metadata": {},
   "outputs": [],
   "source": [
    "track_query = \"\"\"\n",
    "              SELECT \n",
    "                  CASE \n",
    "                      WHEN station_code IN ('KIN', 'WLY', 'MYS') THEN 0\n",
    "                      WHEN station_code in ('NHV', 'BRP', 'STM', 'NRO') THEN 2\n",
    "                      ELSE 1\n",
    "                  END Num_RR_Share\n",
    "              FROM \n",
    "                  stops_joined;\n",
    "              \"\"\""
   ]
  },
  {
   "cell_type": "code",
   "execution_count": 8,
   "id": "8ae4efd3",
   "metadata": {},
   "outputs": [],
   "source": [
    "add_tracks_col = \"\"\"\n",
    "                 ALTER TABLE stops_joined\n",
    "                 ADD COLUMN Num_RR_Share integer;\n",
    "                 \"\"\"\n",
    "\n",
    "update_tracks_col = \"\"\"\n",
    "                    UPDATE stops_joined\n",
    "                    SELECT\n",
    "                        CASE \n",
    "                          WHEN station_code IN ('KIN', 'WLY', 'MYS') THEN 0\n",
    "                          WHEN station_code in ('NHV', 'BRP', 'STM', 'NRO') THEN 2\n",
    "                          ELSE 1\n",
    "                        END Num_RR_Share\n",
    "                    INTO stops_joined\n",
    "                    FROM stops_joined\n",
    "                    \"\"\""
   ]
  },
  {
   "cell_type": "code",
   "execution_count": 11,
   "id": "f37f5e41",
   "metadata": {},
   "outputs": [],
   "source": [
    "add_shared_tracks = \"\"\"\n",
    "                    ALTER TABLE stops_joined\n",
    "                    ADD COLUMN Num_RR_Share integer;\n",
    "                    UPDATE stops_joined\n",
    "                    SET Num_RR_Share = (\n",
    "                                      SELECT  \n",
    "                                          CASE \n",
    "                                              WHEN station_code IN ('KIN', 'WLY', 'MYS') THEN 0\n",
    "                                              WHEN station_code in ('NHV', 'BRP', 'STM', 'NRO') THEN 2\n",
    "                                              ELSE 1\n",
    "                                          END Num_RR_Share\n",
    "                                      FROM \n",
    "                                          stops_joined\n",
    "                    );\n",
    "                    \"\"\""
   ]
  },
  {
   "cell_type": "code",
   "execution_count": 12,
   "id": "361101dd",
   "metadata": {},
   "outputs": [
    {
     "name": "stdout",
     "output_type": "stream",
     "text": [
      "more than one row returned by a subquery used as an expression\n",
      "\n"
     ]
    }
   ],
   "source": [
    "execute_command(conn, add_shared_tracks)"
   ]
  },
  {
   "cell_type": "code",
   "execution_count": null,
   "id": "9e2a92cf",
   "metadata": {},
   "outputs": [],
   "source": [
    "def execute_and_get_results(conn, command):\n",
    "    try:\n",
    "        cur = conn.cursor()\n",
    "        cur.execute(command)\n",
    "        return cur.fetchall()\n",
    "    except (Exception, psycopg2.DatabaseError) as error:\n",
    "        print(error)\n",
    "        conn.rollback()"
   ]
  }
 ],
 "metadata": {
  "kernelspec": {
   "display_name": "Python 3",
   "language": "python",
   "name": "python3"
  },
  "language_info": {
   "codemirror_mode": {
    "name": "ipython",
    "version": 3
   },
   "file_extension": ".py",
   "mimetype": "text/x-python",
   "name": "python",
   "nbconvert_exporter": "python",
   "pygments_lexer": "ipython3",
   "version": "3.9.4"
  }
 },
 "nbformat": 4,
 "nbformat_minor": 5
}
