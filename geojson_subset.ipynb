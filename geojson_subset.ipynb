{
 "cells": [
  {
   "cell_type": "markdown",
   "metadata": {},
   "source": [
    "# Geojson Data Subsetting"
   ]
  },
  {
   "cell_type": "code",
   "execution_count": 1,
   "metadata": {},
   "outputs": [],
   "source": [
    "import json\n",
    "from collections import defaultdict\n",
    "import geopandas as gpd"
   ]
  },
  {
   "cell_type": "markdown",
   "metadata": {},
   "source": [
    "## Part 1: Routes\n",
    "Extract the desired subset of data from the large routes file."
   ]
  },
  {
   "cell_type": "markdown",
   "metadata": {},
   "source": [
    "#### 1. Read in the geojson files"
   ]
  },
  {
   "cell_type": "code",
   "execution_count": 2,
   "metadata": {},
   "outputs": [],
   "source": [
    "path_to_routes = './data/geojson/Amtrak_Routes.geojson'\n",
    "\n",
    "with open(path_to_routes) as f1:\n",
    "    gj_routes = json.load(f1)"
   ]
  },
  {
   "cell_type": "markdown",
   "metadata": {},
   "source": [
    "#### 2. Extract the indices of desired routes from the complete list"
   ]
  },
  {
   "cell_type": "code",
   "execution_count": 3,
   "metadata": {
    "scrolled": false
   },
   "outputs": [
    {
     "name": "stdout",
     "output_type": "stream",
     "text": [
      "0 Acela\n",
      "14 Empire Service\n",
      "28 Regional\n"
     ]
    }
   ],
   "source": [
    "routes = ['Acela', 'Regional', 'Empire Service']\n",
    "for i in range(len(gj_routes['features'])):\n",
    "    if gj_routes['features'][i]['properties']['NAME'] in routes:\n",
    "        print(i, gj_routes['features'][i]['properties']['NAME'])"
   ]
  },
  {
   "cell_type": "code",
   "execution_count": 4,
   "metadata": {},
   "outputs": [
    {
     "name": "stdout",
     "output_type": "stream",
     "text": [
      "{'OBJECTID': 1, 'NAME': 'Acela', 'Shape_Leng': 741010.475197, 'Shape_Le_1': 741010.475197, 'Shape_Length': 977920.7454226009}\n"
     ]
    }
   ],
   "source": [
    "print(gj_routes['features'][0]['properties'])"
   ]
  },
  {
   "cell_type": "markdown",
   "metadata": {},
   "source": [
    "#### 3. Create a new dictionary of the subset in geojson format and save to a new geojson file"
   ]
  },
  {
   "cell_type": "code",
   "execution_count": 5,
   "metadata": {
    "scrolled": true
   },
   "outputs": [],
   "source": [
    "#acela_route = gj_routes['features'][0]\n",
    "#empire_service_route = gj_routes['features'][14]\n",
    "\n",
    "ne_regional_route= gj_routes['features'][28]\n",
    "                                                                          \n",
    "project_routes = {\n",
    "    'type': 'FeatureCollection',\n",
    "    'name': 'Amtrak_Project_Routes',\n",
    "    'crs': {\n",
    "        'type': 'name', \n",
    "        'properties': {\n",
    "            'name': 'urn:ogc:def:crs:OGC:1.3:CRS84'}\n",
    "    },\n",
    "    'features': [ne_regional_route]\n",
    "}"
   ]
  },
  {
   "cell_type": "code",
   "execution_count": 6,
   "metadata": {},
   "outputs": [],
   "source": [
    "path_to_save_routes = './data/geojson/Amtrak_Project_Routes.geojson'\n",
    "with open(path_to_save_routes, 'w') as savefile:\n",
    "    json.dump(project_routes, savefile)\n",
    "    "
   ]
  },
  {
   "cell_type": "markdown",
   "metadata": {},
   "source": [
    "## Part 2: Stations\n",
    "Extract the desired subset of data from the large stations file."
   ]
  },
  {
   "cell_type": "markdown",
   "metadata": {},
   "source": [
    "#### 1. Read in the geojson files"
   ]
  },
  {
   "cell_type": "code",
   "execution_count": 7,
   "metadata": {},
   "outputs": [],
   "source": [
    "path_to_stations = './data/geojson/Amtrak_Stations.geojson'\n",
    "with open(path_to_stations) as f2:\n",
    "    gj_stations = json.load(f2)"
   ]
  },
  {
   "cell_type": "markdown",
   "metadata": {},
   "source": [
    "#### 2. Stations list obtained from unique stations present in the data collected"
   ]
  },
  {
   "cell_type": "code",
   "execution_count": 8,
   "metadata": {
    "scrolled": false
   },
   "outputs": [],
   "source": [
    "stations = set(['WAS', 'NCR', 'BWI', 'BAL', 'WIL', 'PHL', 'TRE', 'NWK', 'NYP', 'STM', 'NHV','NLC','KIN', 'PVD','RTE','BBY','BOS'])\n"
   ]
  },
  {
   "cell_type": "markdown",
   "metadata": {},
   "source": [
    "#### 3. Extract the indices of desired routes from the complete list"
   ]
  },
  {
   "cell_type": "code",
   "execution_count": 9,
   "metadata": {},
   "outputs": [
    {
     "name": "stdout",
     "output_type": "stream",
     "text": [
      "0 NYP\n",
      "1 WAS\n",
      "2 PHL\n",
      "4 BOS\n",
      "7 BAL\n",
      "9 PVD\n",
      "11 WIL\n",
      "12 BWI\n",
      "13 NWK\n",
      "15 NHV\n",
      "16 BBY\n",
      "23 RTE\n",
      "24 TRE\n",
      "26 STM\n",
      "55 NCR\n",
      "59 KIN\n",
      "62 NLC\n"
     ]
    }
   ],
   "source": [
    "station_index = []\n",
    "for i in range(len(gj_stations['features'])):\n",
    "    stn_code = gj_stations['features'][i]['properties']['STNCODE']\n",
    "    if stn_code in stations:\n",
    "        station_index.append(i)\n",
    "        print(i, stn_code)"
   ]
  },
  {
   "cell_type": "markdown",
   "metadata": {},
   "source": [
    "#### 4. Create dictionary from specific indices of the desired stations"
   ]
  },
  {
   "cell_type": "code",
   "execution_count": 10,
   "metadata": {},
   "outputs": [
    {
     "name": "stdout",
     "output_type": "stream",
     "text": [
      "['NYP', 'WAS', 'PHL', 'BOS', 'BAL', 'PVD', 'WIL', 'BWI', 'NWK', 'NHV', 'BBY', 'RTE', 'TRE', 'STM', 'NCR', 'KIN', 'NLC']\n"
     ]
    }
   ],
   "source": [
    "features_list = []\n",
    "for i in station_index:\n",
    "    features_list.append(gj_stations['features'][i])\n",
    "    \n",
    "print([route['properties']['STNCODE'] for route in features_list])"
   ]
  },
  {
   "cell_type": "markdown",
   "metadata": {},
   "source": [
    "#### 5. Create a new dictionary of the subset in geojson format and save to a new geojson file"
   ]
  },
  {
   "cell_type": "code",
   "execution_count": 11,
   "metadata": {},
   "outputs": [],
   "source": [
    "project_stations = {\n",
    "    'type': 'FeatureCollection',\n",
    "    'name': 'Amtrak_Project_Stations',\n",
    "    'crs': {\n",
    "        'type': 'name', \n",
    "        'properties': {\n",
    "            'name': 'urn:ogc:def:crs:OGC:1.3:CRS84'}\n",
    "    },\n",
    "    'features': features_list\n",
    "}"
   ]
  },
  {
   "cell_type": "code",
   "execution_count": 12,
   "metadata": {},
   "outputs": [],
   "source": [
    "path_to_save_stations = './data/geojson/Amtrak_Project_Stations.geojson'\n",
    "with open(path_to_save_stations, 'w') as save_f2:\n",
    "    json.dump(project_stations, save_f2)\n",
    "    "
   ]
  },
  {
   "cell_type": "markdown",
   "metadata": {},
   "source": [
    "#### 6. Load the file again (checking that it works with geopandas!) and update station ordering"
   ]
  },
  {
   "cell_type": "code",
   "execution_count": 13,
   "metadata": {},
   "outputs": [],
   "source": [
    "geo_stations = gpd.read_file('./data/geojson/Amtrak_Project_Stations.geojson')\n",
    "\n",
    "amtrak_stations = ['BOS', 'BBY', 'RTE', 'PVD', 'KIN', 'NLC', 'NHV', 'STM',\n",
    "                   'NYP', 'NWK', 'TRE', 'PHL', 'WIL', 'BAL', 'BWI', 'NCR', 'WAS']"
   ]
  },
  {
   "cell_type": "markdown",
   "metadata": {},
   "source": [
    "#### The stations are not ordered in a meaningful way, so I reorder them in Southbound order"
   ]
  },
  {
   "cell_type": "code",
   "execution_count": 14,
   "metadata": {},
   "outputs": [
    {
     "data": {
      "text/html": [
       "<div>\n",
       "<style scoped>\n",
       "    .dataframe tbody tr th:only-of-type {\n",
       "        vertical-align: middle;\n",
       "    }\n",
       "\n",
       "    .dataframe tbody tr th {\n",
       "        vertical-align: top;\n",
       "    }\n",
       "\n",
       "    .dataframe thead th {\n",
       "        text-align: right;\n",
       "    }\n",
       "</style>\n",
       "<table border=\"1\" class=\"dataframe\">\n",
       "  <thead>\n",
       "    <tr style=\"text-align: right;\">\n",
       "      <th></th>\n",
       "      <th>OBJECTID</th>\n",
       "      <th>STNCODE</th>\n",
       "      <th>STNNAME</th>\n",
       "      <th>CITY2</th>\n",
       "      <th>STATE</th>\n",
       "      <th>STFIPS</th>\n",
       "      <th>urban</th>\n",
       "      <th>geometry</th>\n",
       "    </tr>\n",
       "  </thead>\n",
       "  <tbody>\n",
       "    <tr>\n",
       "      <th>0</th>\n",
       "      <td>1</td>\n",
       "      <td>NYP</td>\n",
       "      <td>New York (Penn Station), New York</td>\n",
       "      <td>New York</td>\n",
       "      <td>NY</td>\n",
       "      <td>36</td>\n",
       "      <td>YES</td>\n",
       "      <td>POINT (-73.99446 40.75033)</td>\n",
       "    </tr>\n",
       "    <tr>\n",
       "      <th>1</th>\n",
       "      <td>2</td>\n",
       "      <td>WAS</td>\n",
       "      <td>Washington, District of Columbia</td>\n",
       "      <td>Washington</td>\n",
       "      <td>DC</td>\n",
       "      <td>11</td>\n",
       "      <td>YES</td>\n",
       "      <td>POINT (-77.00642 38.89699)</td>\n",
       "    </tr>\n",
       "    <tr>\n",
       "      <th>2</th>\n",
       "      <td>3</td>\n",
       "      <td>PHL</td>\n",
       "      <td>Philadelphia (30th St), Pennsylvania</td>\n",
       "      <td>Philadelphia</td>\n",
       "      <td>PA</td>\n",
       "      <td>42</td>\n",
       "      <td>YES</td>\n",
       "      <td>POINT (-75.18104 39.95562)</td>\n",
       "    </tr>\n",
       "    <tr>\n",
       "      <th>3</th>\n",
       "      <td>5</td>\n",
       "      <td>BOS</td>\n",
       "      <td>Boston (South Station), Massachusetts</td>\n",
       "      <td>Boston</td>\n",
       "      <td>MA</td>\n",
       "      <td>25</td>\n",
       "      <td>YES</td>\n",
       "      <td>POINT (-71.05530 42.35231)</td>\n",
       "    </tr>\n",
       "    <tr>\n",
       "      <th>4</th>\n",
       "      <td>8</td>\n",
       "      <td>BAL</td>\n",
       "      <td>Baltimore (Penn Station), Maryland</td>\n",
       "      <td>Baltimore</td>\n",
       "      <td>MD</td>\n",
       "      <td>24</td>\n",
       "      <td>YES</td>\n",
       "      <td>POINT (-76.61569 39.30730)</td>\n",
       "    </tr>\n",
       "  </tbody>\n",
       "</table>\n",
       "</div>"
      ],
      "text/plain": [
       "   OBJECTID STNCODE                                STNNAME         CITY2  \\\n",
       "0         1     NYP      New York (Penn Station), New York      New York   \n",
       "1         2     WAS       Washington, District of Columbia    Washington   \n",
       "2         3     PHL   Philadelphia (30th St), Pennsylvania  Philadelphia   \n",
       "3         5     BOS  Boston (South Station), Massachusetts        Boston   \n",
       "4         8     BAL     Baltimore (Penn Station), Maryland     Baltimore   \n",
       "\n",
       "  STATE STFIPS urban                    geometry  \n",
       "0    NY     36   YES  POINT (-73.99446 40.75033)  \n",
       "1    DC     11   YES  POINT (-77.00642 38.89699)  \n",
       "2    PA     42   YES  POINT (-75.18104 39.95562)  \n",
       "3    MA     25   YES  POINT (-71.05530 42.35231)  \n",
       "4    MD     24   YES  POINT (-76.61569 39.30730)  "
      ]
     },
     "execution_count": 14,
     "metadata": {},
     "output_type": "execute_result"
    }
   ],
   "source": [
    "geo_stations.head()"
   ]
  },
  {
   "cell_type": "code",
   "execution_count": 15,
   "metadata": {},
   "outputs": [],
   "source": [
    "geo_stations = geo_stations.set_index(geo_stations['STNCODE']).drop('STNCODE', axis=1)"
   ]
  },
  {
   "cell_type": "code",
   "execution_count": 16,
   "metadata": {},
   "outputs": [
    {
     "data": {
      "text/html": [
       "<div>\n",
       "<style scoped>\n",
       "    .dataframe tbody tr th:only-of-type {\n",
       "        vertical-align: middle;\n",
       "    }\n",
       "\n",
       "    .dataframe tbody tr th {\n",
       "        vertical-align: top;\n",
       "    }\n",
       "\n",
       "    .dataframe thead th {\n",
       "        text-align: right;\n",
       "    }\n",
       "</style>\n",
       "<table border=\"1\" class=\"dataframe\">\n",
       "  <thead>\n",
       "    <tr style=\"text-align: right;\">\n",
       "      <th></th>\n",
       "      <th>OBJECTID</th>\n",
       "      <th>STNNAME</th>\n",
       "      <th>CITY2</th>\n",
       "      <th>STATE</th>\n",
       "      <th>STFIPS</th>\n",
       "      <th>urban</th>\n",
       "      <th>geometry</th>\n",
       "    </tr>\n",
       "    <tr>\n",
       "      <th>STNCODE</th>\n",
       "      <th></th>\n",
       "      <th></th>\n",
       "      <th></th>\n",
       "      <th></th>\n",
       "      <th></th>\n",
       "      <th></th>\n",
       "      <th></th>\n",
       "    </tr>\n",
       "  </thead>\n",
       "  <tbody>\n",
       "    <tr>\n",
       "      <th>BOS</th>\n",
       "      <td>5</td>\n",
       "      <td>Boston (South Station), Massachusetts</td>\n",
       "      <td>Boston</td>\n",
       "      <td>MA</td>\n",
       "      <td>25</td>\n",
       "      <td>YES</td>\n",
       "      <td>POINT (-71.05530 42.35231)</td>\n",
       "    </tr>\n",
       "    <tr>\n",
       "      <th>BBY</th>\n",
       "      <td>17</td>\n",
       "      <td>Boston (Back Bay), Massachusetts</td>\n",
       "      <td>Boston</td>\n",
       "      <td>MA</td>\n",
       "      <td>25</td>\n",
       "      <td>YES</td>\n",
       "      <td>POINT (-71.07583 42.34732)</td>\n",
       "    </tr>\n",
       "    <tr>\n",
       "      <th>RTE</th>\n",
       "      <td>24</td>\n",
       "      <td>Westwood, Route 128 Station, Massachusetts</td>\n",
       "      <td>Route 128</td>\n",
       "      <td>MA</td>\n",
       "      <td>25</td>\n",
       "      <td>YES</td>\n",
       "      <td>POINT (-71.14789 42.21024)</td>\n",
       "    </tr>\n",
       "    <tr>\n",
       "      <th>PVD</th>\n",
       "      <td>10</td>\n",
       "      <td>Providence, Rhode Island</td>\n",
       "      <td>Providence</td>\n",
       "      <td>RI</td>\n",
       "      <td>44</td>\n",
       "      <td>YES</td>\n",
       "      <td>POINT (-71.41348 41.82949)</td>\n",
       "    </tr>\n",
       "    <tr>\n",
       "      <th>KIN</th>\n",
       "      <td>60</td>\n",
       "      <td>West Kingston, Rhode Island</td>\n",
       "      <td>Kingston</td>\n",
       "      <td>RI</td>\n",
       "      <td>44</td>\n",
       "      <td></td>\n",
       "      <td>POINT (-71.56060 41.48396)</td>\n",
       "    </tr>\n",
       "    <tr>\n",
       "      <th>NLC</th>\n",
       "      <td>63</td>\n",
       "      <td>New London, Connecticut</td>\n",
       "      <td>New London</td>\n",
       "      <td>CT</td>\n",
       "      <td>09</td>\n",
       "      <td>YES</td>\n",
       "      <td>POINT (-72.09322 41.35427)</td>\n",
       "    </tr>\n",
       "    <tr>\n",
       "      <th>NHV</th>\n",
       "      <td>16</td>\n",
       "      <td>New Haven, Connecticut</td>\n",
       "      <td>New Haven</td>\n",
       "      <td>CT</td>\n",
       "      <td>09</td>\n",
       "      <td>YES</td>\n",
       "      <td>POINT (-72.92667 41.29771)</td>\n",
       "    </tr>\n",
       "    <tr>\n",
       "      <th>STM</th>\n",
       "      <td>27</td>\n",
       "      <td>Stamford, Connecticut</td>\n",
       "      <td>Stamford</td>\n",
       "      <td>CT</td>\n",
       "      <td>09</td>\n",
       "      <td>YES</td>\n",
       "      <td>POINT (-73.54216 41.04713)</td>\n",
       "    </tr>\n",
       "    <tr>\n",
       "      <th>NYP</th>\n",
       "      <td>1</td>\n",
       "      <td>New York (Penn Station), New York</td>\n",
       "      <td>New York</td>\n",
       "      <td>NY</td>\n",
       "      <td>36</td>\n",
       "      <td>YES</td>\n",
       "      <td>POINT (-73.99446 40.75033)</td>\n",
       "    </tr>\n",
       "    <tr>\n",
       "      <th>NWK</th>\n",
       "      <td>14</td>\n",
       "      <td>Newark (Penn Station), New Jersey</td>\n",
       "      <td>Newark</td>\n",
       "      <td>NJ</td>\n",
       "      <td>34</td>\n",
       "      <td>YES</td>\n",
       "      <td>POINT (-74.16475 40.73471)</td>\n",
       "    </tr>\n",
       "    <tr>\n",
       "      <th>TRE</th>\n",
       "      <td>25</td>\n",
       "      <td>Trenton, New Jersey</td>\n",
       "      <td>Trenton</td>\n",
       "      <td>NJ</td>\n",
       "      <td>34</td>\n",
       "      <td>YES</td>\n",
       "      <td>POINT (-74.75444 40.21901)</td>\n",
       "    </tr>\n",
       "    <tr>\n",
       "      <th>PHL</th>\n",
       "      <td>3</td>\n",
       "      <td>Philadelphia (30th St), Pennsylvania</td>\n",
       "      <td>Philadelphia</td>\n",
       "      <td>PA</td>\n",
       "      <td>42</td>\n",
       "      <td>YES</td>\n",
       "      <td>POINT (-75.18104 39.95562)</td>\n",
       "    </tr>\n",
       "    <tr>\n",
       "      <th>WIL</th>\n",
       "      <td>12</td>\n",
       "      <td>Wilmington, Delaware</td>\n",
       "      <td>Wilmington</td>\n",
       "      <td>DE</td>\n",
       "      <td>10</td>\n",
       "      <td>YES</td>\n",
       "      <td>POINT (-75.55110 39.73726)</td>\n",
       "    </tr>\n",
       "    <tr>\n",
       "      <th>BAL</th>\n",
       "      <td>8</td>\n",
       "      <td>Baltimore (Penn Station), Maryland</td>\n",
       "      <td>Baltimore</td>\n",
       "      <td>MD</td>\n",
       "      <td>24</td>\n",
       "      <td>YES</td>\n",
       "      <td>POINT (-76.61569 39.30730)</td>\n",
       "    </tr>\n",
       "    <tr>\n",
       "      <th>BWI</th>\n",
       "      <td>13</td>\n",
       "      <td>BWI Rail Station at Thurgood Marshall Airport,...</td>\n",
       "      <td>BWI Marshall Airport</td>\n",
       "      <td>MD</td>\n",
       "      <td>24</td>\n",
       "      <td>YES</td>\n",
       "      <td>POINT (-76.69430 39.19236)</td>\n",
       "    </tr>\n",
       "    <tr>\n",
       "      <th>NCR</th>\n",
       "      <td>56</td>\n",
       "      <td>New Carrollton, Maryland</td>\n",
       "      <td>New Carrollton</td>\n",
       "      <td>MD</td>\n",
       "      <td>24</td>\n",
       "      <td>YES</td>\n",
       "      <td>POINT (-76.87149 38.94810)</td>\n",
       "    </tr>\n",
       "    <tr>\n",
       "      <th>WAS</th>\n",
       "      <td>2</td>\n",
       "      <td>Washington, District of Columbia</td>\n",
       "      <td>Washington</td>\n",
       "      <td>DC</td>\n",
       "      <td>11</td>\n",
       "      <td>YES</td>\n",
       "      <td>POINT (-77.00642 38.89699)</td>\n",
       "    </tr>\n",
       "  </tbody>\n",
       "</table>\n",
       "</div>"
      ],
      "text/plain": [
       "         OBJECTID                                            STNNAME  \\\n",
       "STNCODE                                                                \n",
       "BOS             5              Boston (South Station), Massachusetts   \n",
       "BBY            17                   Boston (Back Bay), Massachusetts   \n",
       "RTE            24         Westwood, Route 128 Station, Massachusetts   \n",
       "PVD            10                           Providence, Rhode Island   \n",
       "KIN            60                        West Kingston, Rhode Island   \n",
       "NLC            63                            New London, Connecticut   \n",
       "NHV            16                             New Haven, Connecticut   \n",
       "STM            27                              Stamford, Connecticut   \n",
       "NYP             1                  New York (Penn Station), New York   \n",
       "NWK            14                  Newark (Penn Station), New Jersey   \n",
       "TRE            25                                Trenton, New Jersey   \n",
       "PHL             3               Philadelphia (30th St), Pennsylvania   \n",
       "WIL            12                               Wilmington, Delaware   \n",
       "BAL             8                 Baltimore (Penn Station), Maryland   \n",
       "BWI            13  BWI Rail Station at Thurgood Marshall Airport,...   \n",
       "NCR            56                           New Carrollton, Maryland   \n",
       "WAS             2                   Washington, District of Columbia   \n",
       "\n",
       "                        CITY2 STATE STFIPS urban                    geometry  \n",
       "STNCODE                                                                       \n",
       "BOS                    Boston    MA     25   YES  POINT (-71.05530 42.35231)  \n",
       "BBY                    Boston    MA     25   YES  POINT (-71.07583 42.34732)  \n",
       "RTE                 Route 128    MA     25   YES  POINT (-71.14789 42.21024)  \n",
       "PVD                Providence    RI     44   YES  POINT (-71.41348 41.82949)  \n",
       "KIN                  Kingston    RI     44        POINT (-71.56060 41.48396)  \n",
       "NLC                New London    CT     09   YES  POINT (-72.09322 41.35427)  \n",
       "NHV                 New Haven    CT     09   YES  POINT (-72.92667 41.29771)  \n",
       "STM                  Stamford    CT     09   YES  POINT (-73.54216 41.04713)  \n",
       "NYP                  New York    NY     36   YES  POINT (-73.99446 40.75033)  \n",
       "NWK                    Newark    NJ     34   YES  POINT (-74.16475 40.73471)  \n",
       "TRE                   Trenton    NJ     34   YES  POINT (-74.75444 40.21901)  \n",
       "PHL              Philadelphia    PA     42   YES  POINT (-75.18104 39.95562)  \n",
       "WIL                Wilmington    DE     10   YES  POINT (-75.55110 39.73726)  \n",
       "BAL                 Baltimore    MD     24   YES  POINT (-76.61569 39.30730)  \n",
       "BWI      BWI Marshall Airport    MD     24   YES  POINT (-76.69430 39.19236)  \n",
       "NCR            New Carrollton    MD     24   YES  POINT (-76.87149 38.94810)  \n",
       "WAS                Washington    DC     11   YES  POINT (-77.00642 38.89699)  "
      ]
     },
     "execution_count": 16,
     "metadata": {},
     "output_type": "execute_result"
    }
   ],
   "source": [
    "geo_stations = geo_stations.loc[amtrak_stations]\n",
    "geo_stations"
   ]
  },
  {
   "cell_type": "code",
   "execution_count": 17,
   "metadata": {},
   "outputs": [],
   "source": [
    "path_to_save_stations = './data/geojson/Amtrak_Project_Stations.geojson'\n",
    "geo_stations.to_file(path_to_save_stations, driver='GeoJSON')"
   ]
  },
  {
   "cell_type": "code",
   "execution_count": null,
   "metadata": {},
   "outputs": [],
   "source": []
  }
 ],
 "metadata": {
  "kernelspec": {
   "display_name": "Python 3",
   "language": "python",
   "name": "python3"
  },
  "language_info": {
   "codemirror_mode": {
    "name": "ipython",
    "version": 3
   },
   "file_extension": ".py",
   "mimetype": "text/x-python",
   "name": "python",
   "nbconvert_exporter": "python",
   "pygments_lexer": "ipython3",
   "version": "3.9.2"
  }
 },
 "nbformat": 4,
 "nbformat_minor": 4
}
