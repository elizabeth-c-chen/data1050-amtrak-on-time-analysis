{
 "cells": [
  {
   "cell_type": "markdown",
   "metadata": {},
   "source": [
    "# Geojson Data Subsetting"
   ]
  },
  {
   "cell_type": "code",
   "execution_count": 1,
   "metadata": {},
   "outputs": [],
   "source": [
    "import json\n",
    "from collections import defaultdict"
   ]
  },
  {
   "cell_type": "markdown",
   "metadata": {},
   "source": [
    "## Part 1: Routes\n",
    "Extract the desired subset of data from the large routes file."
   ]
  },
  {
   "cell_type": "markdown",
   "metadata": {},
   "source": [
    "#### 1. Read in the geojson files"
   ]
  },
  {
   "cell_type": "code",
   "execution_count": 2,
   "metadata": {},
   "outputs": [],
   "source": [
    "path_to_routes = './data/geojson/Amtrak_Routes.geojson'\n",
    "\n",
    "with open(path_to_routes) as f1:\n",
    "    gj_routes = json.load(f1)"
   ]
  },
  {
   "cell_type": "markdown",
   "metadata": {},
   "source": [
    "#### 2. Extract the indices of desired routes from the complete list"
   ]
  },
  {
   "cell_type": "code",
   "execution_count": 3,
   "metadata": {
    "scrolled": false
   },
   "outputs": [
    {
     "name": "stdout",
     "output_type": "stream",
     "text": [
      "0 Acela\n",
      "14 Empire Service\n",
      "28 Regional\n"
     ]
    }
   ],
   "source": [
    "routes = ['Acela', 'Regional', 'Empire Service']\n",
    "for i in range(len(gj_routes['features'])):\n",
    "    if gj_routes['features'][i]['properties']['NAME'] in routes:\n",
    "        print(i, gj_routes['features'][i]['properties']['NAME'])"
   ]
  },
  {
   "cell_type": "markdown",
   "metadata": {},
   "source": [
    "#### 3. Create a new dictionary of the subset in geojson format and save to a new geojson file"
   ]
  },
  {
   "cell_type": "code",
   "execution_count": 4,
   "metadata": {
    "scrolled": true
   },
   "outputs": [],
   "source": [
    "#acela_route = gj_routes['features'][0]\n",
    "ne_regional_route= gj_routes['features'][28]\n",
    "#empire_service_route = gj_routes['features'][14]\n",
    "\n",
    "                                                                          \n",
    "project_routes = {\n",
    "    'type': 'FeatureCollection',\n",
    "    'name': 'Amtrak_Project_Routes',\n",
    "    'crs': {\n",
    "        'type': 'name', \n",
    "        'properties': {\n",
    "            'name': 'urn:ogc:def:crs:OGC:1.3:CRS84'}\n",
    "    },\n",
    "    'features': [ne_regional_route]\n",
    "}"
   ]
  },
  {
   "cell_type": "code",
   "execution_count": 5,
   "metadata": {},
   "outputs": [],
   "source": [
    "path_to_save_routes = './data/geojson/Amtrak_Project_Routes.geojson'\n",
    "with open(path_to_save_routes, 'w') as savefile:\n",
    "    json.dump(project_routes, savefile)\n",
    "    "
   ]
  },
  {
   "cell_type": "markdown",
   "metadata": {},
   "source": [
    "## Part 2: Stations\n",
    "Extract the desired subset of data from the large stations file."
   ]
  },
  {
   "cell_type": "markdown",
   "metadata": {},
   "source": [
    "#### 1. Read in the geojson files"
   ]
  },
  {
   "cell_type": "code",
   "execution_count": 6,
   "metadata": {},
   "outputs": [],
   "source": [
    "path_to_stations = './data/geojson/Amtrak_Stations.geojson'\n",
    "with open(path_to_stations) as f2:\n",
    "    gj_stations = json.load(f2)"
   ]
  },
  {
   "cell_type": "markdown",
   "metadata": {},
   "source": [
    "#### 2. Stations list obtained from unique stations present in the data collected"
   ]
  },
  {
   "cell_type": "code",
   "execution_count": 7,
   "metadata": {
    "scrolled": false
   },
   "outputs": [],
   "source": [
    "stations = set(['WAS', 'NCR', 'BWI', 'BAL', 'WIL', 'PHL', 'TRE', 'NWK', 'NYP', 'STM', 'NHV','NLC','KIN', 'PVD','RTE','BBY','BOS'])\n"
   ]
  },
  {
   "cell_type": "markdown",
   "metadata": {},
   "source": [
    "#### 3. Extract the indices of desired routes from the complete list"
   ]
  },
  {
   "cell_type": "code",
   "execution_count": 8,
   "metadata": {},
   "outputs": [
    {
     "name": "stdout",
     "output_type": "stream",
     "text": [
      "0 NYP\n",
      "1 WAS\n",
      "2 PHL\n",
      "4 BOS\n",
      "7 BAL\n",
      "9 PVD\n",
      "11 WIL\n",
      "12 BWI\n",
      "13 NWK\n",
      "15 NHV\n",
      "16 BBY\n",
      "23 RTE\n",
      "24 TRE\n",
      "26 STM\n",
      "55 NCR\n",
      "59 KIN\n",
      "62 NLC\n"
     ]
    }
   ],
   "source": [
    "station_index = []\n",
    "for i in range(len(gj_stations['features'])):\n",
    "    stn_code = gj_stations['features'][i]['properties']['STNCODE']\n",
    "    if stn_code in stations:\n",
    "        station_index.append(i)\n",
    "        print(i, stn_code)"
   ]
  },
  {
   "cell_type": "markdown",
   "metadata": {},
   "source": [
    "#### 4. Create dictionary from specific indices of the desired stations"
   ]
  },
  {
   "cell_type": "code",
   "execution_count": 9,
   "metadata": {},
   "outputs": [
    {
     "name": "stdout",
     "output_type": "stream",
     "text": [
      "['NYP', 'WAS', 'PHL', 'BOS', 'BAL', 'PVD', 'WIL', 'BWI', 'NWK', 'NHV', 'BBY', 'RTE', 'TRE', 'STM', 'NCR', 'KIN', 'NLC']\n"
     ]
    }
   ],
   "source": [
    "features_list = []\n",
    "for i in station_index:\n",
    "    features_list.append(gj_stations['features'][i])\n",
    "    \n",
    "print([route['properties']['STNCODE'] for route in features_list])"
   ]
  },
  {
   "cell_type": "markdown",
   "metadata": {},
   "source": [
    "#### 5. Create a new dictionary of the subset in geojson format and save to a new geojson file"
   ]
  },
  {
   "cell_type": "code",
   "execution_count": 10,
   "metadata": {},
   "outputs": [],
   "source": [
    "project_stations = {\n",
    "    'type': 'FeatureCollection',\n",
    "    'name': 'Amtrak_Project_Stations',\n",
    "    'crs': {\n",
    "        'type': 'name', \n",
    "        'properties': {\n",
    "            'name': 'urn:ogc:def:crs:OGC:1.3:CRS84'}\n",
    "    },\n",
    "    'features': features_list\n",
    "}"
   ]
  },
  {
   "cell_type": "code",
   "execution_count": 11,
   "metadata": {},
   "outputs": [],
   "source": [
    "path_to_save_stations = './data/geojson/Amtrak_Project_Stations.geojson'\n",
    "with open(path_to_save_stations, 'w') as save_f2:\n",
    "    json.dump(project_stations, save_f2)\n",
    "    "
   ]
  }
 ],
 "metadata": {
  "kernelspec": {
   "display_name": "Python 3",
   "language": "python",
   "name": "python3"
  },
  "language_info": {
   "codemirror_mode": {
    "name": "ipython",
    "version": 3
   },
   "file_extension": ".py",
   "mimetype": "text/x-python",
   "name": "python",
   "nbconvert_exporter": "python",
   "pygments_lexer": "ipython3",
   "version": "3.9.1"
  }
 },
 "nbformat": 4,
 "nbformat_minor": 4
}
