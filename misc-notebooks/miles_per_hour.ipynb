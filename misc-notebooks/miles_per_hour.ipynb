{
 "cells": [
  {
   "cell_type": "markdown",
   "id": "3dc00fad",
   "metadata": {},
   "source": [
    "## Calculate average speeds between stations"
   ]
  },
  {
   "cell_type": "code",
   "execution_count": 1,
   "id": "04c2997d",
   "metadata": {},
   "outputs": [],
   "source": [
    "Δd = [0,1,10,32,27,35,51,17,22,17,19,10,3,11,34,33,25,12,27,30,11,21,9]\n",
    "ΔT = [0,5,10,24,20,34,51,22,29,21,35,17,5,13,23,29,19,11,21,28,13,14,16]\n",
    "assert len(Δd) == len(ΔT)"
   ]
  },
  {
   "cell_type": "code",
   "execution_count": 2,
   "id": "9e7040bc",
   "metadata": {},
   "outputs": [],
   "source": [
    "def miles_per_hour(miles, minutes):\n",
    "    return 60 * miles / minutes"
   ]
  },
  {
   "cell_type": "code",
   "execution_count": 3,
   "id": "6b87ac30",
   "metadata": {},
   "outputs": [],
   "source": [
    "amtrak_stations = ['BOS', 'BBY', 'RTE', 'PVD', 'KIN', 'NLC', 'NHV', 'BRP', 'STM', 'NRO', 'NYP', 'NWK', 'EWR', 'MET', \n",
    "                   'TRE', 'PHL', 'WIL', 'NRK', 'ABE', 'BAL', 'BWI', 'NCR', 'WAS']"
   ]
  },
  {
   "cell_type": "code",
   "execution_count": 4,
   "id": "b63b93e8",
   "metadata": {},
   "outputs": [
    {
     "data": {
      "text/plain": [
       "23"
      ]
     },
     "execution_count": 4,
     "metadata": {},
     "output_type": "execute_result"
    }
   ],
   "source": [
    "len(amtrak_stations)"
   ]
  },
  {
   "cell_type": "code",
   "execution_count": 5,
   "id": "77c66cce",
   "metadata": {},
   "outputs": [
    {
     "name": "stdout",
     "output_type": "stream",
     "text": [
      "BBY -> BOS –– SPEED: 12.0\n",
      "RTE -> BBY –– SPEED: 60.0\n",
      "PVD -> RTE –– SPEED: 80.0\n",
      "KIN -> PVD –– SPEED: 81.0\n",
      "NLC -> KIN –– SPEED: 61.76470588235294\n",
      "NHV -> NLC –– SPEED: 60.0\n",
      "BRP -> NHV –– SPEED: 46.36363636363637\n",
      "STM -> BRP –– SPEED: 45.51724137931034\n",
      "NRO -> STM –– SPEED: 48.57142857142857\n",
      "NYP -> NRO –– SPEED: 32.57142857142857\n",
      "NWK -> NYP –– SPEED: 35.294117647058826\n",
      "EWR -> NWK –– SPEED: 36.0\n",
      "MET -> EWR –– SPEED: 50.76923076923077\n",
      "TRE -> MET –– SPEED: 88.69565217391305\n",
      "PHL -> TRE –– SPEED: 68.27586206896552\n",
      "WIL -> PHL –– SPEED: 78.94736842105263\n",
      "NRK -> WIL –– SPEED: 65.45454545454545\n",
      "ABE -> NRK –– SPEED: 77.14285714285714\n",
      "BAL -> ABE –– SPEED: 64.28571428571429\n",
      "BWI -> BAL –– SPEED: 50.76923076923077\n",
      "NCR -> BWI –– SPEED: 90.0\n",
      "WAS -> NCR –– SPEED: 33.75\n"
     ]
    }
   ],
   "source": [
    "for i, stn_src, miles, minutes in zip(range(22), amtrak_stations[1:], Δd[1:], ΔT[1:]):\n",
    "    stn_dest = amtrak_stations[i]\n",
    "    speed = miles_per_hour(miles, minutes)\n",
    "    print('{} -> {} –– SPEED: {}'.format(stn_src, stn_dest, speed))"
   ]
  },
  {
   "cell_type": "code",
   "execution_count": null,
   "id": "42040aa7",
   "metadata": {},
   "outputs": [],
   "source": []
  }
 ],
 "metadata": {
  "kernelspec": {
   "display_name": "Python 3",
   "language": "python",
   "name": "python3"
  },
  "language_info": {
   "codemirror_mode": {
    "name": "ipython",
    "version": 3
   },
   "file_extension": ".py",
   "mimetype": "text/x-python",
   "name": "python",
   "nbconvert_exporter": "python",
   "pygments_lexer": "ipython3",
   "version": "3.9.4"
  }
 },
 "nbformat": 4,
 "nbformat_minor": 5
}
